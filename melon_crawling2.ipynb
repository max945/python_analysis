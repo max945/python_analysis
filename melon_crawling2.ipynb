{
 "cells": [
  {
   "cell_type": "code",
   "execution_count": 2,
   "metadata": {},
   "outputs": [
    {
     "name": "stdout",
     "output_type": "stream",
     "text": [
      "에잇(Prod.&Feat. SUGA of BTS)|아이유\n",
      "사랑하게 될 줄 알았어|전미도\n",
      "아로하|조정석\n",
      "Candy|백현 (BAEKHYUN)\n",
      "나비와 고양이 (feat.백현 (BAEKHYUN))|볼빨간사춘기\n",
      "살짝 설렜어 (Nonstop)|오마이걸\n",
      "ON|방탄소년단\n",
      "좋은 사람 있으면 소개시켜줘|조이 (JOY)\n",
      "너를 사랑하고 있어|백현 (BAEKHYUN)\n",
      "Bungee|백현 (BAEKHYUN)\n",
      "작은 것들을 위한 시 (Boy With Luv) (Feat. Halsey)|방탄소년단\n",
      "시작|가호 (Gaho)\n",
      "Love Again|백현 (BAEKHYUN)\n",
      "처음처럼|엠씨더맥스 (M.C the MAX)\n",
      "화려하지 않은 고백|규현 (KYUHYUN)\n",
      "덤더럼(Dumhdurum)|Apink (에이핑크)\n",
      "Underwater|백현 (BAEKHYUN)\n",
      "Poppin'|백현 (BAEKHYUN)\n",
      "00:00 (Zero O’Clock)|방탄소년단\n",
      "R U Ridin'?|백현 (BAEKHYUN)\n",
      "흔들리는 꽃들 속에서 네 샴푸향이 느껴진거야|장범준\n",
      "Ghost|백현 (BAEKHYUN)\n",
      "Blueming|아이유\n",
      "Dolphin|오마이걸\n",
      "Black Swan|방탄소년단\n",
      "너에게 가는 이 길 위에서 (너.이.길)|백현 (BAEKHYUN)\n",
      "그대 고운 내사랑|어반자카파\n",
      "친구|방탄소년단\n",
      "아무노래|지코 (ZICO)\n",
      "Filter|방탄소년단\n",
      "Dance Monkey|Tones And I\n",
      "METEOR|창모 (CHANGMO)\n",
      "시차|방탄소년단\n",
      "Moon|방탄소년단\n",
      "Obsession|EXO\n",
      "이제 나만 믿어요|임영웅\n",
      "Happy|태연 (TAEYEON)\n",
      "Inner Child|방탄소년단\n",
      "Louder than bombs|방탄소년단\n",
      "We are Bulletproof : the Eternal|방탄소년단\n",
      "욱 (UGH!)|방탄소년단\n",
      "Interlude : Shadow|방탄소년단\n",
      "Don't Start Now|Dua Lipa\n",
      "마음을 드려요|아이유\n",
      "내 눈물 모아|휘인 (Whee In)\n",
      "Respect|방탄소년단\n",
      "Outro : Ego|방탄소년단\n",
      "그때 그 아인|김필\n",
      "Memories|Maroon 5\n",
      "어떻게 지내 (Prod. By VAN.C)|오반\n"
     ]
    }
   ],
   "source": [
    "from selenium import webdriver\n",
    "driver = webdriver.Chrome(r'C:\\Users\\max94\\chapapa_practice\\chromedriver_win32\\chromedriver.exe')\n",
    "url = 'http://www.melon.com/chart/index.htm'\n",
    "driver.get(url)\n",
    "\n",
    "songs = driver.find_elements_by_css_selector('#lst50')\n",
    "for song in songs:\n",
    "    title = song.find_elements_by_css_selector('div.ellipsis.rank01>span>a')[0].text\n",
    "    singer = song.find_elements_by_css_selector('div.ellipsis.rank02>a')[0].text\n",
    "    print(title, singer, sep = '|')"
   ]
  },
  {
   "cell_type": "code",
   "execution_count": null,
   "metadata": {},
   "outputs": [],
   "source": []
  }
 ],
 "metadata": {
  "kernelspec": {
   "display_name": "Python 3",
   "language": "python",
   "name": "python3"
  },
  "language_info": {
   "codemirror_mode": {
    "name": "ipython",
    "version": 3
   },
   "file_extension": ".py",
   "mimetype": "text/x-python",
   "name": "python",
   "nbconvert_exporter": "python",
   "pygments_lexer": "ipython3",
   "version": "3.7.6"
  }
 },
 "nbformat": 4,
 "nbformat_minor": 4
}
